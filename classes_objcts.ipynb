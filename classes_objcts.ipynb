{
 "cells": [
  {
   "cell_type": "code",
   "execution_count": null,
   "metadata": {},
   "outputs": [
    {
     "name": "stdout",
     "output_type": "stream",
     "text": [
      "blue\n",
      "BMW\n"
     ]
    }
   ],
   "source": [
    "class Car: # create a class\n",
    "    color = \"blue\"\n",
    "    brand = \"BMW\"\n",
    "\n",
    "car1 = Car() # create an object of the class\n",
    "print(car1.color) # access the class attribute\n",
    "print(car1.brand) # access the class attribute\n"
   ]
  },
  {
   "cell_type": "code",
   "execution_count": null,
   "metadata": {},
   "outputs": [],
   "source": [
    "# Constructor - All Classes have a function called __int__() ,which is always executed when the class is being initiated.\n",
    "\n",
    "# Creating a class with a constructor\n",
    "class Student:\n",
    "    def __init__(self, fullname, age): # \n",
    "        self.name=fullname\n",
    "        self.age=age\n",
    "\n",
    "s1 = Student(\"John Doe\", 22) # create an object of the class"
   ]
  }
 ],
 "metadata": {
  "kernelspec": {
   "display_name": "Python 3",
   "language": "python",
   "name": "python3"
  },
  "language_info": {
   "codemirror_mode": {
    "name": "ipython",
    "version": 3
   },
   "file_extension": ".py",
   "mimetype": "text/x-python",
   "name": "python",
   "nbconvert_exporter": "python",
   "pygments_lexer": "ipython3",
   "version": "3.12.4"
  }
 },
 "nbformat": 4,
 "nbformat_minor": 2
}
